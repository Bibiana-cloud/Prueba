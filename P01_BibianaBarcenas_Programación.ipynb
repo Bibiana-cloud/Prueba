{
  "cells": [
    {
      "cell_type": "markdown",
      "metadata": {
        "id": "t_v48--QAG3W"
      },
      "source": [
        "# Hola chicos.\n",
        "\n",
        "## Esta es la pŕactica #1.-Tipos de datos\n",
        "\n",
        "## Además, estaremos repasando las variables con diferentes tipos de datos.\n",
        "\n",
        "## Crear variable, imprimir variable e imprimir el tipo de dato que es:\n",
        "\n",
        "### Ejemplo de variable str\n",
        "\n",
        "Name = \"Bibiana\"   # Crear variable\n",
        "\n",
        "print(Name)        # Imprimir variable\n",
        "\n",
        "print(type(Name))  # Imprimir el tipo de dato que es dicha variable\n",
        "\n",
        "### Ahora, demuestra tus conocimientos con cada uno de los tipos de variable:\n"
      ]
    },
    {
      "cell_type": "code",
      "execution_count": null,
      "metadata": {},
      "outputs": [],
      "source": [
        "# Comentarios prueba\n",
        "# Comentarios prueba\n",
        "# Comentarios prueba\n"
      ]
    },
    {
      "cell_type": "code",
      "execution_count": null,
      "metadata": {
        "id": "ngIMmYoxjR-D"
      },
      "outputs": [],
      "source": [
        "# Ejemplo de variable str\n",
        "\n",
        "Name = \"Bibiana Thonamzin\"   # Crear variable\n",
        "print(Name)        # Imprimir variable\n",
        "print(type(Name))  # Imprimir el tipo de dato que es dicha variable"
      ]
    },
    {
      "cell_type": "markdown",
      "metadata": {
        "id": "r9cMQDkGkx3N"
      },
      "source": [
        "# Tipo de dato ***str***\n"
      ]
    },
    {
      "cell_type": "code",
      "execution_count": null,
      "metadata": {
        "id": "93uqBNtOmJd8"
      },
      "outputs": [],
      "source": []
    },
    {
      "cell_type": "markdown",
      "metadata": {
        "id": "FIs9pVrrlVag"
      },
      "source": [
        "# Tipo de dato ***int***"
      ]
    },
    {
      "cell_type": "code",
      "execution_count": null,
      "metadata": {
        "colab": {
          "base_uri": "https://localhost:8080/"
        },
        "id": "0mCvCvHbmKX4",
        "outputId": "11805b2d-7bc6-4f41-da2c-d50bfaea1041"
      },
      "outputs": [
        {
          "name": "stdout",
          "output_type": "stream",
          "text": [
            "3\n",
            "<class 'int'>\n"
          ]
        }
      ],
      "source": [
        "x=3\n",
        "print(x)\n",
        "print(type(x))"
      ]
    },
    {
      "cell_type": "markdown",
      "metadata": {
        "id": "8Y9mB_A1lh1t"
      },
      "source": [
        "# Tipo de dato ***float***"
      ]
    },
    {
      "cell_type": "code",
      "execution_count": null,
      "metadata": {
        "colab": {
          "base_uri": "https://localhost:8080/"
        },
        "id": "xfVFh6PHmLK1",
        "outputId": "f7e2df64-ced2-4b8d-a149-6a74978d49fa"
      },
      "outputs": [
        {
          "name": "stdout",
          "output_type": "stream",
          "text": [
            "10.576\n",
            "<class 'float'>\n"
          ]
        }
      ],
      "source": [
        "x = 10.576\n",
        "print(x)\n",
        "print(type(x))"
      ]
    },
    {
      "cell_type": "markdown",
      "metadata": {
        "id": "94kF3Cv0lkyS"
      },
      "source": [
        "# Tipo de dato ***complex***"
      ]
    },
    {
      "cell_type": "code",
      "execution_count": null,
      "metadata": {
        "colab": {
          "base_uri": "https://localhost:8080/"
        },
        "id": "TUNIn8YNmLyg",
        "outputId": "0c522ea8-d338-4812-c57a-39562ba804c4"
      },
      "outputs": [
        {
          "name": "stdout",
          "output_type": "stream",
          "text": [
            "23j\n",
            "<class 'complex'>\n"
          ]
        }
      ],
      "source": [
        "x= 23j\n",
        "print(x)\n",
        "print(type(x))"
      ]
    },
    {
      "cell_type": "markdown",
      "metadata": {
        "id": "hyy9F3aylm99"
      },
      "source": [
        "# Tipo de dato ***list***"
      ]
    },
    {
      "cell_type": "code",
      "execution_count": null,
      "metadata": {
        "colab": {
          "base_uri": "https://localhost:8080/"
        },
        "id": "u2zz6zFumMbt",
        "outputId": "6f15b2c5-e759-4929-c336-7884ed292b2b"
      },
      "outputs": [
        {
          "name": "stdout",
          "output_type": "stream",
          "text": [
            "['lapiz', 'goma', 'corrector']\n",
            "<class 'list'>\n"
          ]
        }
      ],
      "source": [
        "materiales=[\"lapiz\",\"goma\",\"corrector\"]\n",
        "print(materiales)\n",
        "print(type(materiales))"
      ]
    },
    {
      "cell_type": "markdown",
      "metadata": {
        "id": "E-cu_OiNlpX4"
      },
      "source": [
        "# Tipo de dato ***tuple***"
      ]
    },
    {
      "cell_type": "code",
      "execution_count": null,
      "metadata": {
        "colab": {
          "base_uri": "https://localhost:8080/"
        },
        "id": "sMIFBlHRmNEx",
        "outputId": "ef663e64-95b3-4bbb-ed1a-b077bfa85002"
      },
      "outputs": [
        {
          "name": "stdout",
          "output_type": "stream",
          "text": [
            "('bread', 'milk', 'orange juice')\n",
            "<class 'tuple'>\n"
          ]
        }
      ],
      "source": [
        "#ejemplo de dato tupla\n",
        "compras=(\"bread\",\"milk\",\"orange juice\")\n",
        "print(compras)\n",
        "print(type(compras))"
      ]
    },
    {
      "cell_type": "markdown",
      "metadata": {
        "id": "AIeSkYUNlr8i"
      },
      "source": [
        "# Tipo de dato ***range***"
      ]
    },
    {
      "cell_type": "code",
      "execution_count": null,
      "metadata": {
        "id": "wLQLvHQSmNva"
      },
      "outputs": [],
      "source": []
    },
    {
      "cell_type": "markdown",
      "metadata": {
        "id": "_XMOeGR4lvcg"
      },
      "source": [
        "# Tipo de dato ***dict***"
      ]
    },
    {
      "cell_type": "code",
      "execution_count": null,
      "metadata": {
        "id": "u2edMH_rmOel"
      },
      "outputs": [],
      "source": []
    },
    {
      "cell_type": "markdown",
      "metadata": {
        "id": "JAvQNah-lxn9"
      },
      "source": [
        "# Tipo de dato ***set***"
      ]
    },
    {
      "cell_type": "code",
      "execution_count": null,
      "metadata": {
        "id": "gO9zNwdFmPGs"
      },
      "outputs": [],
      "source": []
    },
    {
      "cell_type": "markdown",
      "metadata": {
        "id": "zdhLLkkXl0dU"
      },
      "source": [
        "# Tipo de dato ***bool***"
      ]
    },
    {
      "cell_type": "code",
      "execution_count": null,
      "metadata": {
        "colab": {
          "base_uri": "https://localhost:8080/"
        },
        "id": "9ut1qfZVmP5k",
        "outputId": "bbe5d88c-02b0-4c22-e4c1-f053a4ba60b0"
      },
      "outputs": [
        {
          "name": "stdout",
          "output_type": "stream",
          "text": [
            "True\n",
            "<class 'bool'>\n"
          ]
        }
      ],
      "source": [
        "x=bool(6)\n",
        "print(x)\n",
        "print(type(x))"
      ]
    },
    {
      "cell_type": "code",
      "execution_count": null,
      "metadata": {
        "colab": {
          "base_uri": "https://localhost:8080/"
        },
        "id": "90JRScAX2Yts",
        "outputId": "09639a7a-5f31-4275-a5cd-3b47107c1c38"
      },
      "outputs": [
        {
          "name": "stdout",
          "output_type": "stream",
          "text": [
            "False\n",
            "<class 'bool'>\n"
          ]
        }
      ],
      "source": [
        "x=False\n",
        "print(x)\n",
        "print(type(x))"
      ]
    },
    {
      "cell_type": "code",
      "execution_count": null,
      "metadata": {
        "colab": {
          "base_uri": "https://localhost:8080/",
          "height": 130
        },
        "id": "eiILL6AP2nRV",
        "outputId": "0c47b9c3-f2e6-4bc1-8b37-13637d494732"
      },
      "outputs": [
        {
          "ename": "SyntaxError",
          "evalue": "ignored",
          "output_type": "error",
          "traceback": [
            "\u001b[0;36m  File \u001b[0;32m\"<ipython-input-11-c90848d7e3c2>\"\u001b[0;36m, line \u001b[0;32m1\u001b[0m\n\u001b[0;31m    False=5\u001b[0m\n\u001b[0m    ^\u001b[0m\n\u001b[0;31mSyntaxError\u001b[0m\u001b[0;31m:\u001b[0m cannot assign to False\n"
          ]
        }
      ],
      "source": [
        "False=5\n",
        "print(False)"
      ]
    }
  ],
  "metadata": {
    "colab": {
      "provenance": []
    },
    "kernelspec": {
      "display_name": "Python 3",
      "name": "python3"
    },
    "language_info": {
      "name": "python"
    }
  },
  "nbformat": 4,
  "nbformat_minor": 0
}
