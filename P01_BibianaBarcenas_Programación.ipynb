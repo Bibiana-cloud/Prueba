{
  "nbformat": 4,
  "nbformat_minor": 0,
  "metadata": {
    "colab": {
      "provenance": []
    },
    "kernelspec": {
      "name": "python3",
      "display_name": "Python 3"
    },
    "language_info": {
      "name": "python"
    }
  },
  "cells": [
    {
      "cell_type": "markdown",
      "source": [
        "# Hola chicos.\n",
        "\n",
        "## Esta es la pŕactica #1.-Tipos de datos\n",
        "\n",
        "## Además, estaremos repasando las variables con diferentes tipos de datos.\n",
        "\n",
        "## Crear variable, imprimir variable e imprimir el tipo de dato que es:\n",
        "\n",
        "### Ejemplo de variable str\n",
        "\n",
        "Name = \"Bibiana\"   # Crear variable\n",
        "\n",
        "print(Name)        # Imprimir variable\n",
        "\n",
        "print(type(Name))  # Imprimir el tipo de dato que es dicha variable\n",
        "\n",
        "### Ahora, demuestra tus conocimientos con cada uno de los tipos de variable:\n"
      ],
      "metadata": {
        "id": "t_v48--QAG3W"
      }
    },
    {
      "cell_type": "code",
      "source": [
        "# Ejemplo de variable str\n",
        "\n",
        "Name = \"Bibiana Thonamzin\"   # Crear variable\n",
        "print(Name)        # Imprimir variable\n",
        "print(type(Name))  # Imprimir el tipo de dato que es dicha variable"
      ],
      "metadata": {
        "id": "ngIMmYoxjR-D"
      },
      "execution_count": null,
      "outputs": []
    },
    {
      "cell_type": "markdown",
      "source": [
        "# Tipo de dato ***str***\n"
      ],
      "metadata": {
        "id": "r9cMQDkGkx3N"
      }
    },
    {
      "cell_type": "code",
      "source": [],
      "metadata": {
        "id": "93uqBNtOmJd8"
      },
      "execution_count": null,
      "outputs": []
    },
    {
      "cell_type": "markdown",
      "source": [
        "# Tipo de dato ***int***"
      ],
      "metadata": {
        "id": "FIs9pVrrlVag"
      }
    },
    {
      "cell_type": "code",
      "source": [
        "x=3\n",
        "print(x)\n",
        "print(type(x))"
      ],
      "metadata": {
        "id": "0mCvCvHbmKX4",
        "colab": {
          "base_uri": "https://localhost:8080/"
        },
        "outputId": "11805b2d-7bc6-4f41-da2c-d50bfaea1041"
      },
      "execution_count": null,
      "outputs": [
        {
          "output_type": "stream",
          "name": "stdout",
          "text": [
            "3\n",
            "<class 'int'>\n"
          ]
        }
      ]
    },
    {
      "cell_type": "markdown",
      "source": [
        "# Tipo de dato ***float***"
      ],
      "metadata": {
        "id": "8Y9mB_A1lh1t"
      }
    },
    {
      "cell_type": "code",
      "source": [
        "x = 10.576\n",
        "print(x)\n",
        "print(type(x))"
      ],
      "metadata": {
        "id": "xfVFh6PHmLK1",
        "colab": {
          "base_uri": "https://localhost:8080/"
        },
        "outputId": "f7e2df64-ced2-4b8d-a149-6a74978d49fa"
      },
      "execution_count": null,
      "outputs": [
        {
          "output_type": "stream",
          "name": "stdout",
          "text": [
            "10.576\n",
            "<class 'float'>\n"
          ]
        }
      ]
    },
    {
      "cell_type": "markdown",
      "source": [
        "# Tipo de dato ***complex***"
      ],
      "metadata": {
        "id": "94kF3Cv0lkyS"
      }
    },
    {
      "cell_type": "code",
      "source": [
        "x= 23j\n",
        "print(x)\n",
        "print(type(x))"
      ],
      "metadata": {
        "id": "TUNIn8YNmLyg",
        "colab": {
          "base_uri": "https://localhost:8080/"
        },
        "outputId": "0c522ea8-d338-4812-c57a-39562ba804c4"
      },
      "execution_count": null,
      "outputs": [
        {
          "output_type": "stream",
          "name": "stdout",
          "text": [
            "23j\n",
            "<class 'complex'>\n"
          ]
        }
      ]
    },
    {
      "cell_type": "markdown",
      "source": [
        "# Tipo de dato ***list***"
      ],
      "metadata": {
        "id": "hyy9F3aylm99"
      }
    },
    {
      "cell_type": "code",
      "source": [
        "materiales=[\"lapiz\",\"goma\",\"corrector\"]\n",
        "print(materiales)\n",
        "print(type(materiales))"
      ],
      "metadata": {
        "id": "u2zz6zFumMbt",
        "colab": {
          "base_uri": "https://localhost:8080/"
        },
        "outputId": "6f15b2c5-e759-4929-c336-7884ed292b2b"
      },
      "execution_count": null,
      "outputs": [
        {
          "output_type": "stream",
          "name": "stdout",
          "text": [
            "['lapiz', 'goma', 'corrector']\n",
            "<class 'list'>\n"
          ]
        }
      ]
    },
    {
      "cell_type": "markdown",
      "source": [
        "# Tipo de dato ***tuple***"
      ],
      "metadata": {
        "id": "E-cu_OiNlpX4"
      }
    },
    {
      "cell_type": "code",
      "source": [
        "#ejemplo de dato tupla\n",
        "compras=(\"bread\",\"milk\",\"orange juice\")\n",
        "print(compras)\n",
        "print(type(compras))"
      ],
      "metadata": {
        "id": "sMIFBlHRmNEx",
        "colab": {
          "base_uri": "https://localhost:8080/"
        },
        "outputId": "ef663e64-95b3-4bbb-ed1a-b077bfa85002"
      },
      "execution_count": null,
      "outputs": [
        {
          "output_type": "stream",
          "name": "stdout",
          "text": [
            "('bread', 'milk', 'orange juice')\n",
            "<class 'tuple'>\n"
          ]
        }
      ]
    },
    {
      "cell_type": "markdown",
      "source": [
        "# Tipo de dato ***range***"
      ],
      "metadata": {
        "id": "AIeSkYUNlr8i"
      }
    },
    {
      "cell_type": "code",
      "source": [],
      "metadata": {
        "id": "wLQLvHQSmNva"
      },
      "execution_count": null,
      "outputs": []
    },
    {
      "cell_type": "markdown",
      "source": [
        "# Tipo de dato ***dict***"
      ],
      "metadata": {
        "id": "_XMOeGR4lvcg"
      }
    },
    {
      "cell_type": "code",
      "source": [],
      "metadata": {
        "id": "u2edMH_rmOel"
      },
      "execution_count": null,
      "outputs": []
    },
    {
      "cell_type": "markdown",
      "source": [
        "# Tipo de dato ***set***"
      ],
      "metadata": {
        "id": "JAvQNah-lxn9"
      }
    },
    {
      "cell_type": "code",
      "source": [],
      "metadata": {
        "id": "gO9zNwdFmPGs"
      },
      "execution_count": null,
      "outputs": []
    },
    {
      "cell_type": "markdown",
      "source": [
        "# Tipo de dato ***bool***"
      ],
      "metadata": {
        "id": "zdhLLkkXl0dU"
      }
    },
    {
      "cell_type": "code",
      "source": [
        "x=bool(6)\n",
        "print(x)\n",
        "print(type(x))"
      ],
      "metadata": {
        "id": "9ut1qfZVmP5k",
        "colab": {
          "base_uri": "https://localhost:8080/"
        },
        "outputId": "bbe5d88c-02b0-4c22-e4c1-f053a4ba60b0"
      },
      "execution_count": null,
      "outputs": [
        {
          "output_type": "stream",
          "name": "stdout",
          "text": [
            "True\n",
            "<class 'bool'>\n"
          ]
        }
      ]
    },
    {
      "cell_type": "code",
      "source": [
        "x=False\n",
        "print(x)\n",
        "print(type(x))"
      ],
      "metadata": {
        "colab": {
          "base_uri": "https://localhost:8080/"
        },
        "id": "90JRScAX2Yts",
        "outputId": "09639a7a-5f31-4275-a5cd-3b47107c1c38"
      },
      "execution_count": null,
      "outputs": [
        {
          "output_type": "stream",
          "name": "stdout",
          "text": [
            "False\n",
            "<class 'bool'>\n"
          ]
        }
      ]
    },
    {
      "cell_type": "code",
      "source": [
        "False=5\n",
        "print(False)"
      ],
      "metadata": {
        "colab": {
          "base_uri": "https://localhost:8080/",
          "height": 130
        },
        "id": "eiILL6AP2nRV",
        "outputId": "0c47b9c3-f2e6-4bc1-8b37-13637d494732"
      },
      "execution_count": null,
      "outputs": [
        {
          "output_type": "error",
          "ename": "SyntaxError",
          "evalue": "ignored",
          "traceback": [
            "\u001b[0;36m  File \u001b[0;32m\"<ipython-input-11-c90848d7e3c2>\"\u001b[0;36m, line \u001b[0;32m1\u001b[0m\n\u001b[0;31m    False=5\u001b[0m\n\u001b[0m    ^\u001b[0m\n\u001b[0;31mSyntaxError\u001b[0m\u001b[0;31m:\u001b[0m cannot assign to False\n"
          ]
        }
      ]
    }
  ]
}