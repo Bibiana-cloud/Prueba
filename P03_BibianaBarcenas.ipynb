{
  "nbformat": 4,
  "nbformat_minor": 0,
  "metadata": {
    "colab": {
      "provenance": []
    },
    "kernelspec": {
      "name": "python3",
      "display_name": "Python 3"
    },
    "language_info": {
      "name": "python"
    }
  },
  "cells": [
    {
      "cell_type": "markdown",
      "source": [
        "# Hola chicos.\n",
        "\n",
        "## Esta es la pŕactica #3\n",
        "\n",
        "Un ingeniero Biomédico esta elaborando los siguientes algoritmos, ayúdale y desarrollarlos en Google Colab:\n",
        "\n",
        "\n",
        "1.- Hacer el algoritmo para sumar dos números y escribir el resultado. (3.3 pts.)\n",
        "\n",
        "2.- Hacer un algoritmo que permita leer dos números diferentes y nos indique cuál es el mayor. (3.3 pts.)\n",
        "\n",
        "3.- Crear un algoritmo en el que se almacenen 3 números en 3 variables A, B, y C. El diagrama debe indicar cuál es el mayor. (3.4 pts.)\n",
        "\n",
        "NOTA: Todas las entradas de los algoritmos son por teclado.\n",
        "\n",
        "Saludos.\n",
        "\n",
        "### Primero, vamos a aprender la entrada por teclado:\n",
        "\n",
        "Ejemplos:\n",
        "\n",
        "# Ej 1:\n",
        "nombre = input(\"¿Cómo se llama? \")\n",
        "\n",
        "print(f\"Me alegro de conocerle, {nombre}\")\n",
        "\n",
        "print(\"Me alegro de conocerle\", nombre)\n",
        "\n",
        "\n",
        "# Ej 2:\n",
        "numero1 = int(input(\"Dígame un número: \"))\n",
        "\n",
        "numero2 = int(input(f\"Dígame un número mayor que {numero1}: \"))\n",
        "\n",
        "print(f\"La diferencia entre ellos es {numero2 - numero1}.\")\n",
        "\n",
        "print(\"La diferencia entre ellos es: \" , numero2 - numero1)\n",
        "\n",
        "# Ej 3:\n",
        "peso = float(input(\"Dígame su peso en kg: \"))\n",
        "\n",
        "print(f\"Su peso es {peso} kg\")\n"
      ],
      "metadata": {
        "id": "t_v48--QAG3W"
      }
    },
    {
      "cell_type": "code",
      "source": [
        "# Ej 1:\n",
        "nombre = input(\"¿Cómo se llama? \")\n",
        "\n",
        "print(f\"Me alegro de conocerle, {nombre}\")\n",
        "print(\"Me alegro de conocerle\", nombre)"
      ],
      "metadata": {
        "colab": {
          "base_uri": "https://localhost:8080/"
        },
        "id": "EwaqCnqeQzkw",
        "outputId": "5581c5b3-968f-4b79-f0ba-8760a2b079d5"
      },
      "execution_count": null,
      "outputs": [
        {
          "output_type": "stream",
          "name": "stdout",
          "text": [
            "¿Cómo se llama? Bibiana\n",
            "Me alegro de conocerle, Bibiana\n",
            "Me alegro de conocerle Bibiana\n"
          ]
        }
      ]
    },
    {
      "cell_type": "code",
      "source": [
        "# Ej 2:\n",
        "numero1 = int(input(\"Dígame un número: \"))\n",
        "numero2 = int(input(f\"Dígame un número mayor que {numero1}: \"))\n",
        "print(f\"La diferencia entre ellos es {numero2 - numero1}.\")\n",
        "print(\"La diferencia entre ellos es: \" , numero2 - numero1)\n"
      ],
      "metadata": {
        "colab": {
          "base_uri": "https://localhost:8080/"
        },
        "id": "oc2bdtAGQ5cI",
        "outputId": "c95858d9-201a-4065-9322-fb7ef252b1b2"
      },
      "execution_count": null,
      "outputs": [
        {
          "output_type": "stream",
          "name": "stdout",
          "text": [
            "Dígame un número: 5\n",
            "Dígame un número mayor que 5: 6\n",
            "La diferencia entre ellos es 1.\n",
            "La diferencia entre ellos es:  1\n"
          ]
        }
      ]
    },
    {
      "cell_type": "code",
      "source": [
        "# Ej 3\n",
        "\n",
        "peso = float(input(\"Dígame su peso en kg: \"))\n",
        "\n",
        "print(f\"Su peso es {peso} kg\")\n",
        "print(\"Su peso es: \", peso, \"kg\")"
      ],
      "metadata": {
        "colab": {
          "base_uri": "https://localhost:8080/"
        },
        "id": "IFFPBmK-Skd8",
        "outputId": "4655427f-c385-4814-a751-f100d2c21747"
      },
      "execution_count": null,
      "outputs": [
        {
          "output_type": "stream",
          "name": "stdout",
          "text": [
            "Dígame su peso en kg: 51.3\n",
            "Su peso es 51.3 kg\n",
            "Su peso es:  51.3 kg\n"
          ]
        }
      ]
    },
    {
      "cell_type": "code",
      "execution_count": null,
      "metadata": {
        "id": "LoNAi12Xu-TI"
      },
      "outputs": [],
      "source": [
        "# 1.- Hacer el algoritmo para sumar dos números y escribir el resultado.\n"
      ]
    },
    {
      "cell_type": "code",
      "source": [
        "# 2.- Hacer un algoritmo que permita leer dos números diferentes y nos indique cuál es el mayor.\n"
      ],
      "metadata": {
        "id": "gLD713VkAc89"
      },
      "execution_count": null,
      "outputs": []
    },
    {
      "cell_type": "code",
      "source": [
        "# 3.- Crear un algoritmo en el que se almacenen 3 números en 3 variables A, B, y C. El diagrama debe indicar cuál es el mayor.\n"
      ],
      "metadata": {
        "id": "MVN3EPDeAQy3"
      },
      "execution_count": null,
      "outputs": []
    }
  ]
}